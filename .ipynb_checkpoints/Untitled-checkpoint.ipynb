{
 "cells": [
  {
   "cell_type": "code",
   "execution_count": 1,
   "metadata": {
    "collapsed": true
   },
   "outputs": [],
   "source": [
    "%matplotlib inline\n",
    "import numpy as np\n",
    "import matplotlib.pyplot as plt \n",
    "import os\n",
    "from scipy.stats import t"
   ]
  },
  {
   "cell_type": "code",
   "execution_count": 2,
   "metadata": {
    "collapsed": true
   },
   "outputs": [],
   "source": [
    "class LinReg:\n",
    "\tdef __init__(self, x_data, y_data):\n",
    "\t\tassert(len(x_data) == len(y_data)), \"Input data lists must match in length!\"\n",
    "\t\tself.m = 0  #slope\n",
    "\t\tself.b = 0  #offset aka yint\n",
    "\t\tself.x_data = np.asarray(x_data)\n",
    "\t\tself.y_data = np.asarray(y_data)\n",
    "\t\tself.n = len(x_data)\n",
    "\n",
    "\tdef compute_model(self):\n",
    "\t\tprint \"Computing model...\\n******************************\"\n",
    "\t\tself.xy_sum = np.sum(self.x_data * self.y_data)\n",
    "\t\tself.x_sum = np.sum(self.x_data)\n",
    "\t\tself.y_sum = np.sum(self.y_data)\n",
    "\t\tself.x2_sum = np.sum(np.square(self.x_data))\n",
    "\t\tself.y2_sum = np.sum(np.square(self.y_data))\n",
    "\t\tself.m = ((self.n * self.xy_sum) - self.x_sum * self.y_sum) / (self.n * self.x2_sum - np.square(self.x_sum))\n",
    "\t\tprint \"Slope: \", self.m\n",
    "\t\tself.b = ((self.x2_sum * self.y_sum) - self.x_sum * self.xy_sum) / (self.n * self.x2_sum - np.square(self.x_sum))\n",
    "\t\tprint \"Offset: \", self.b\n",
    "\n",
    "\t\tr = (self.n * self.xy_sum - self.x_sum * self.y_sum) / np.sqrt((self.n * self.x2_sum - np.square(self.x_sum)) * (self.n * self.y2_sum - np.square(self.y_sum)))\n",
    "\t\tself.r2 = np.square(r)\n",
    "\t\tprint \"R2: \" + str(self.r2)\n",
    "\t\tprint \"\\n\\n\"\n",
    "\n",
    "\tdef interpolate(self, point, confidence = 0.95):\n",
    "\t\tprint \"Interpolating...\\n*******************************\"\n",
    "\t\tself.S = np.sqrt(np.sum(np.square(self.y_data - self.m * self.x_data - self.b))/float(self.n - 2))\n",
    "\t\tself.y_interp = self.m * point + self.b\n",
    "\t\tself.x_mean = np.mean(self.x_data)\n",
    "\t\tself.interp_error = self.S * np.sqrt((1/float(self.n)) + (self.n * np.square(point - self.x_mean))/float(self.n * self.x2_sum - np.square(self.x_sum)))\n",
    "\t\talpha = 0.5 * (1-confidence)\n",
    "\t\tdf = self.n - 2\n",
    "\t\tt_crit = -t.ppf(alpha, df)\n",
    "\t\tmargin = t_crit * self.interp_error\n",
    "\t\tprint \"Interpolated value: \" + str(self.y_interp) + r\" +/- \" + str(self.interp_error)\n",
    "\t\tprint str(confidence*100) + \"% confidence interval: [\" + str(self.y_interp - margin) + \", \" + str(self.y_interp + margin) + \"]\" \n",
    "\t\tprint \"\\n\\n\"\n",
    "\n",
    "\tdef calculate(self, MM):\n",
    "\t\tprint \"Calculating mass in pill...\\n*******************************\"\n",
    "\t\tV = 0.1\n",
    "\t\tm_t = 0.6682 #tablet in g\n",
    "\t\tm_u = 0.0663 #used in g\n",
    "\t\tdel_C = self.interp_error * 0.001\n",
    "\t\tdel_V = 0.08 * 0.001\n",
    "\t\tdel_m = 0.0001\n",
    "\t\tself.mass = self.y_interp * 0.001 * V * (m_t/m_u) * MM #estimated mass of compound in pill\n",
    "\t\tC = self.y_interp * 0.001\n",
    "\t\t\n",
    "\t\t#self.error = np.sqrt(np.square(V * m_t * MM /m_u) * np.square(del_C) + np.square(C * m_t * MM /m_u) * np.square(del_V) + np.square(C * V * MM /m_u) * np.square(del_m) + np.square(C * V * m_t * MM /np.square(m_u)) * np.square(del_m))\n",
    "\t\tself.error = np.sqrt(np.square(C * m_t * MM /m_u) * np.square(del_V))\n",
    "\t\tprint \"Mass in tablet: \" + str(self.mass) + \"g +/- \" + str(self.error) + \"g\"\n",
    "\t\tprint \"\\n\\n\"\n",
    "\n",
    "\tdef plot(self, save_direc):\n",
    "\t\tx_min = np.amin(self.x_data)\n",
    "\t\tx_max = np.amax(self.x_data)\n",
    "\t\tx = np.linspace(x_min - 100, x_max + 100, 50)\n",
    "\t\ty = self.m * x + self.b\n",
    "\n",
    "\t\tplt.figure()\n",
    "\t\tplt.plot(x,y, '-k')\n",
    "\t\tplt.scatter(self.x_data, self.y_data, c='b')\n",
    "        plt.show()"
   ]
  },
  {
   "cell_type": "code",
   "execution_count": 3,
   "metadata": {
    "collapsed": true
   },
   "outputs": [],
   "source": [
    "caf_conc = [0.103, 0.206, 0.309, 0.412, 0.515, 0.103, 0.206, 0.309, 0.412, 0.515, 0.103, 0.206, 0.309, 0.412, 0.515]\n",
    "caf_response = [7463505, 9780646, 12039116, 13115760, 13846664, 8337490.194, 9569525.617, 11826159.97, 12366823.44, 13924057.24, 8024468.647, 8390230.98, 13204501.13, 17628871.67, 18239615.4]\n",
    "caf_unknown = 20943374.692\n",
    "MM_caf = 194.19"
   ]
  },
  {
   "cell_type": "code",
   "execution_count": 4,
   "metadata": {
    "collapsed": true
   },
   "outputs": [],
   "source": [
    "ac_conc = [0.598, 1.20, 1.79, 2.39, 2.99, 0.529, 1.058, 1.588, 2.117, 2.646, 0.544, 1.088, 1.631, 2.175, 2.719]\n",
    "ac_response = [18624328.59, 26089739.78, 31158970.57, 34586545.54, 39855979.52, 18924802.08, 22606713.1, 30619112.89, 34392604.8, 38778435.58, 21714957.94, 25143038.05, 31002737.32, 29445853.31, 39665565.6]\n",
    "ac_unknown = 33365281.175\n",
    "MM_ac = 151.163"
   ]
  },
  {
   "cell_type": "code",
   "execution_count": 6,
   "metadata": {
    "collapsed": true
   },
   "outputs": [],
   "source": [
    "aa_conc = [0.449, 0.897, 1.34, 1.79, 2.24]\n",
    "aa_response = [6246778, 9327923, 10201061, 11211106, 13745142]\n",
    "aa_unknown = 8768938.805\n",
    "MM_aa = 180.158"
   ]
  },
  {
   "cell_type": "code",
   "execution_count": 8,
   "metadata": {
    "collapsed": true
   },
   "outputs": [],
   "source": [
    "root_direc = \"/Users/nicolasquach/Documents/stanford/senior_yr/spring/CHEM134/labs/lab3/plots/\""
   ]
  },
  {
   "cell_type": "code",
   "execution_count": null,
   "metadata": {
    "collapsed": true
   },
   "outputs": [],
   "source": []
  }
 ],
 "metadata": {
  "kernelspec": {
   "display_name": "Python 2",
   "language": "python",
   "name": "python2"
  },
  "language_info": {
   "codemirror_mode": {
    "name": "ipython",
    "version": 2
   },
   "file_extension": ".py",
   "mimetype": "text/x-python",
   "name": "python",
   "nbconvert_exporter": "python",
   "pygments_lexer": "ipython2",
   "version": "2.7.11"
  }
 },
 "nbformat": 4,
 "nbformat_minor": 0
}
